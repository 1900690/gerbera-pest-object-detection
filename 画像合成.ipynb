{
  "nbformat": 4,
  "nbformat_minor": 0,
  "metadata": {
    "colab": {
      "name": "画像合成.ipynb",
      "provenance": [],
      "include_colab_link": true
    },
    "kernelspec": {
      "name": "python3",
      "display_name": "Python 3"
    },
    "language_info": {
      "name": "python"
    }
  },
  "cells": [
    {
      "cell_type": "markdown",
      "metadata": {
        "id": "view-in-github",
        "colab_type": "text"
      },
      "source": [
        "<a href=\"https://colab.research.google.com/github/1900690/gerbera-pest-object-detection/blob/main/%E7%94%BB%E5%83%8F%E5%90%88%E6%88%90.ipynb\" target=\"_parent\"><img src=\"https://colab.research.google.com/assets/colab-badge.svg\" alt=\"Open In Colab\"/></a>"
      ]
    },
    {
      "cell_type": "markdown",
      "source": [
        "#動画から画像抽出"
      ],
      "metadata": {
        "id": "8daCwJIVdsya"
      }
    },
    {
      "cell_type": "code",
      "source": [
        "#動画を入れるフォルダを作成\n",
        "import os\n",
        "SAVE_NAME = 'douga'\n",
        "if not os.path.exists('/content/' +SAVE_NAME):\n",
        "    os.mkdir('/content/' +SAVE_NAME)"
      ],
      "metadata": {
        "id": "AlJ4-yEMv3Hr"
      },
      "execution_count": 1,
      "outputs": []
    },
    {
      "cell_type": "code",
      "source": [
        "import cv2\n",
        "import os\n",
        "\n",
        "def save_frame_range(video_path,\n",
        "                     dir_path, ext='jpg'):\n",
        "\n",
        "    basename=video_path[-12:-4]\n",
        "    cap = cv2.VideoCapture(video_path)\n",
        "\n",
        "    # 総フレーム数\n",
        "    total_frames = int(cap.get(cv2.CAP_PROP_FRAME_COUNT));\n",
        "\n",
        "    #★真ん中+1のフレームを取り出すプラスの数値を調整することでフレームをずらせる\n",
        "    center_frame=total_frames//2\n",
        "    start_frame=0\n",
        "    stop_frame=total_frames\n",
        "    step_frame=total_frames-1\n",
        "\n",
        "    if not cap.isOpened():\n",
        "        return\n",
        "\n",
        "    os.makedirs(dir_path, exist_ok=True)\n",
        "    base_path = os.path.join(dir_path, basename)\n",
        "\n",
        "    digit = len(str(int(cap.get(cv2.CAP_PROP_FRAME_COUNT))))\n",
        "\n",
        "    for n in range(start_frame, stop_frame, step_frame):\n",
        "        cap.set(cv2.CAP_PROP_POS_FRAMES, n)\n",
        "        ret, frame = cap.read()\n",
        "        if ret:\n",
        "            cv2.imwrite('{}_{}.{}'.format(base_path, str(n).zfill(digit), ext), frame)\n",
        "        else:\n",
        "            return\n",
        "\n",
        "#スライスフォルダを作成\n",
        "SAVE_NAME = 'slice'\n",
        "if not os.path.exists('./' +SAVE_NAME):\n",
        "    os.mkdir('./' +SAVE_NAME)\n",
        "\n",
        "#動画を入れたフォルダのパスを記載\n",
        "LOAD_FOLDA = '/content/douga'\n",
        "LOAD_NAME = os.listdir(LOAD_FOLDA)\n",
        "\n",
        "\n",
        "for file_name in LOAD_NAME:\n",
        "  IMAGE_PATH= LOAD_FOLDA +'/'+file_name\n",
        "  save_frame_range(IMAGE_PATH,\n",
        "                 '/content/'+SAVE_NAME)\n",
        "\n",
        "image_date=LOAD_FOLDA[-8:]"
      ],
      "metadata": {
        "id": "LciQqM1VeBam"
      },
      "execution_count": 3,
      "outputs": []
    },
    {
      "cell_type": "markdown",
      "source": [
        "#画像合成（新式２）\n",
        "[参考](https://campkougaku.com/2020/04/15/alignment/#toc2)"
      ],
      "metadata": {
        "id": "VVXLyTQymDyu"
      }
    },
    {
      "cell_type": "code",
      "source": [
        "#@title 関数定義\n",
        "import cv2\n",
        "import numpy as np\n",
        "def get_keypoints(img, pt1 = (0, 0), pt2 = None):\n",
        "\n",
        "    if pt2 is None:\n",
        "        pt2 = (img.shape[1], img.shape[0])\n",
        "\n",
        "    gray = cv2.cvtColor(img, cv2.COLOR_RGB2GRAY)\n",
        "    mask = cv2.rectangle(np.zeros_like(gray), pt1, pt2, color=1, thickness=-1)\n",
        "    sift = cv2.AKAZE_create()\n",
        "\n",
        "    # find the key points and descriptors with AKAZE\n",
        "    return sift.detectAndCompute(gray, mask=mask)\n",
        "\n",
        "def get_matcher(img, kp2, des2):\n",
        "\n",
        "    kp1, des1 = get_keypoints(img)\n",
        "\n",
        "    if len(kp1) == 0 or len(kp2) == 0:\n",
        "        return None\n",
        "\n",
        "    # Brute-Force Matcher生成\n",
        "    bf = cv2.BFMatcher()\n",
        "    matches = bf.knnMatch(des1, des2, k=2)\n",
        "\n",
        "    # store all the good matches as per Lowe's ratio test.\n",
        "    good = []\n",
        "    for m, n in matches:\n",
        "        if m.distance < 0.7 * n.distance:\n",
        "            good.append(m)\n",
        "\n",
        "    if len(good) == 0:\n",
        "        return None\n",
        "\n",
        "    target_position = []\n",
        "    base_position = []\n",
        "    # x,y座標の取得\n",
        "    for g in good:\n",
        "        target_position.append([kp1[g.queryIdx].pt[0], kp1[g.queryIdx].pt[1]])\n",
        "        base_position.append([kp2[g.trainIdx].pt[0], kp2[g.trainIdx].pt[1]])\n",
        "\n",
        "    apt1 = np.array(target_position)\n",
        "    apt2 = np.array(base_position)\n",
        "    return apt1, apt2\n",
        "\n",
        "def get_alignment_img(img, kp2, des2):\n",
        "\n",
        "    height, width = img.shape[:2]\n",
        "    # 対応点を探索\n",
        "    apt1, apt2 = get_matcher(img, kp2, des2)\n",
        "\n",
        "    # アフィン行列の推定\n",
        "    mtx = cv2.estimateAffinePartial2D(apt1, apt2)[0]\n",
        "\n",
        "    # アフィン変換\n",
        "    if mtx is not None:\n",
        "        return cv2.warpAffine(img, mtx, (width, height))\n",
        "    else:\n",
        "        return None"
      ],
      "metadata": {
        "id": "T4TIGKZ3n6xU",
        "cellView": "form"
      },
      "execution_count": 4,
      "outputs": []
    },
    {
      "cell_type": "code",
      "source": [
        "from PIL import Image\n",
        "import numpy as np\n",
        "import shutil\n",
        "import glob\n",
        "\n",
        "\n",
        "#画像のリストを取得\n",
        "os.chdir(\"/content/slice\")\n",
        "path = glob.glob(\"*\")\n",
        "\n",
        "#保存用フォルダを作成\n",
        "SAVE_NAME = 'alignment'\n",
        "if not os.path.exists('/content/' +SAVE_NAME):\n",
        "    os.mkdir('/content/' +SAVE_NAME)\n",
        "\n",
        "base = np.array(Image.open(\"/content/slice/\"+path[0]), dtype=np.uint8)#元画像\n",
        "\n",
        "for i in range(len(path)-1):\n",
        "  frame = np.array(Image.open(\"/content/slice/\"+path[i+1]), dtype=np.uint8)#位置合わせする画像\n",
        "  kp, des = get_keypoints(base)\n",
        "  align = get_alignment_img(frame, kp, des)\n",
        "  Image.fromarray(align).save(\"/content/alignment/aligned_\"+path[i+1], \"JPEG\", quality=95)\n",
        "\n",
        "shutil.copy(\"/content/slice/\"+path[0],\"/content/alignment/\"+path[0])"
      ],
      "metadata": {
        "id": "BzZR75TAo9wc",
        "outputId": "8525923e-d559-4c55-e550-6f7bda92753d",
        "colab": {
          "base_uri": "https://localhost:8080/",
          "height": 35
        }
      },
      "execution_count": 5,
      "outputs": [
        {
          "output_type": "execute_result",
          "data": {
            "text/plain": [
              "'/content/alignment/MOV_0319_000.jpg'"
            ],
            "application/vnd.google.colaboratory.intrinsic+json": {
              "type": "string"
            }
          },
          "metadata": {},
          "execution_count": 5
        }
      ]
    },
    {
      "cell_type": "markdown",
      "source": [
        "#画像合成（旧式）"
      ],
      "metadata": {
        "id": "lIObrL9PdoJ3"
      }
    },
    {
      "cell_type": "code",
      "source": [
        "#アルファブレンド\n",
        "import cv2\n",
        "import glob\n",
        "import os\n",
        "from google.colab.patches import cv2_imshow\n",
        "\n",
        "#階層移動\n",
        "os.chdir(\"/content/alignment\")\n",
        "#階層内のPathを全取得\n",
        "path = glob.glob(\"*\")\n",
        "#print(path)\n",
        "\n",
        "#一枚目と二枚目を合成\n",
        "dst=cv2.addWeighted(cv2.imread(path[0]), 1/len(path), cv2.imread(path[1]), 1/len(path), 0)\n",
        "\n",
        "#残りを合成\n",
        "for number in list(range(2,len(path))):\n",
        "  src = cv2.imread(path[number])\n",
        "  #src = cv2.resize(src, dst.shape[1::-1])#サイズを合わせる必要があるなら\n",
        "  dst=cv2.addWeighted(dst,1, src, 1/len(path), 0)\n",
        "\n",
        "#書き出し\n",
        "cv2.imwrite(\"/content/result.jpg\", dst)\n",
        "#表示する場合\n",
        "#cv2_imshow(dst)"
      ],
      "metadata": {
        "id": "GtOLqUB4fNqd",
        "outputId": "03a0c6ff-887f-4caa-e6ed-b1cd96a0912a",
        "colab": {
          "base_uri": "https://localhost:8080/"
        }
      },
      "execution_count": 8,
      "outputs": [
        {
          "output_type": "execute_result",
          "data": {
            "text/plain": [
              "True"
            ]
          },
          "metadata": {},
          "execution_count": 8
        }
      ]
    },
    {
      "cell_type": "markdown",
      "source": [
        "#背景消去"
      ],
      "metadata": {
        "id": "Taw1jiJZwvr3"
      }
    },
    {
      "cell_type": "code",
      "source": [
        "%pip install rembg"
      ],
      "metadata": {
        "id": "9JSrWmnHw0xa"
      },
      "execution_count": null,
      "outputs": []
    },
    {
      "cell_type": "code",
      "source": [
        "import os\n",
        "from rembg import remove\n",
        "from PIL import Image\n",
        "\n",
        "#階層移動\n",
        "os.chdir(\"/content/alignment\")\n",
        "#階層内のPathを全取得\n",
        "path = glob.glob(\"*\")\n",
        "\n",
        "#保存用フォルダを作成\n",
        "SAVE_NAME = 'remove'\n",
        "if not os.path.exists('/content/' +SAVE_NAME):\n",
        "    os.mkdir('/content/' +SAVE_NAME)\n",
        "\n",
        "for path_name in path:\n",
        "  input = Image.open(\"/content/alignment/\"+path_name)\n",
        "  output = remove(input)\n",
        "  rgb_output = output.convert('RGB')\n",
        "  rgb_output.save(\"/content/remove/\"+path_name)\n",
        "\n",
        "os.chdir(\"/content/\")"
      ],
      "metadata": {
        "id": "sF8GCGQPw-c9"
      },
      "execution_count": 12,
      "outputs": []
    },
    {
      "cell_type": "markdown",
      "source": [
        "#二つの画像の変化点をマスクで抽出"
      ],
      "metadata": {
        "id": "xwj4xNFsqxku"
      }
    },
    {
      "cell_type": "code",
      "source": [
        "import cv2\n",
        "from google.colab.patches import cv2_imshow\n",
        "\n",
        "#「背景」となる画像の取り込み（グレースケール）\n",
        "img_src01 = cv2.imread(\"/content/remove/MOV_0319_000.jpg\", 0)\n",
        "\n",
        "#「差分」をもった画像の取り込み（グレースケール）\n",
        "img_src02 = cv2.imread(\"/content/remove/aligned_MOV_0319_145.jpg\", 0)\n",
        "\n",
        "#「背景差分」計算用オブジェクトの作成\n",
        "bgObj = cv2.bgsegm.createBackgroundSubtractorMOG()\n",
        "\n",
        "#差分となっている「前景領域」に対してマスクをかける\n",
        "fgmask = bgObj.apply(img_src01)\n",
        "fgmask = bgObj.apply(img_src02)\n",
        "\n",
        "#画面に表示\n",
        "cv2_imshow(fgmask)\n",
        "\n",
        "#「差分」画像のファイル名\n",
        "bg_diff_path = \"/content/diff.jpg\"\n",
        "\n",
        "#「差分」画像の保存\n",
        "cv2.imwrite(bg_diff_path, fgmask)\n",
        "\n",
        "#「キー」が押されるまで画面を表示\n",
        "cv2.waitKey(0)\n",
        "\n",
        "#作成した画面をすべて破棄\n",
        "cv2.destroyAllWindows()"
      ],
      "metadata": {
        "id": "zd5r7qgwq7BU"
      },
      "execution_count": null,
      "outputs": []
    }
  ]
}